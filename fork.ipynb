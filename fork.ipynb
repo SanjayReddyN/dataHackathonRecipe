{
 "cells": [
  {
   "cell_type": "code",
   "execution_count": 1,
   "metadata": {},
   "outputs": [],
   "source": [
    "import PySimpleGUI as sg\n",
    "import pandas as pd\n",
    "import matplotlib.pyplot as plt\n",
    "from matplotlib.backends.backend_tkagg import FigureCanvasTkAgg\n",
    "from spoon import *"
   ]
  },
  {
   "cell_type": "code",
   "execution_count": 2,
   "metadata": {},
   "outputs": [
    {
     "name": "stderr",
     "output_type": "stream",
     "text": [
      "c:\\Users\\aarus\\Documents\\CS\\MadData\\spoon.py:43: SettingWithCopyWarning: \n",
      "A value is trying to be set on a copy of a slice from a DataFrame\n",
      "\n",
      "See the caveats in the documentation: https://pandas.pydata.org/pandas-docs/stable/user_guide/indexing.html#returning-a-view-versus-a-copy\n",
      "  df[k][i]=res[k][0:-1]\n"
     ]
    },
    {
     "name": "stdout",
     "output_type": "stream",
     "text": [
      "                                             title  \\\n",
      "0                        Curry Leaves Potato Chips   \n",
      "1                          Pan Fried Potato Wedges   \n",
      "2                         Parmesan Mashed Potatoes   \n",
      "3                              Hasselback Potatoes   \n",
      "4  Mashed Potatoes with Garlic, Sage & Goat Cheese   \n",
      "\n",
      "                           missedIngredients calories carbs  fat protein  \n",
      "0                 chili powder, curry leaves      156    34  0.9       4  \n",
      "1                garlic powder, onion powder      275    59    1       7  \n",
      "2             butter, cream, parmesan cheese      686    44   51      15  \n",
      "3       breadcrumbs, butter, parmesan cheese      173    29    4       4  \n",
      "4  garlic, chavrie goat cheese pyramid, sage      180    15   11       5  \n"
     ]
    }
   ],
   "source": [
    "#Getting the dataset\n",
    "recipes = spoon_df([\"Potato\", \"Tomato Sauce\"])"
   ]
  },
  {
   "cell_type": "code",
   "execution_count": 3,
   "metadata": {},
   "outputs": [],
   "source": [
    "#Creating the layout and window\n",
    "\n",
    "layout = [\n",
    "    [sg.Text('Welcome to F0RK')],\n",
    "    [sg.Text(recipes, size = (100, 30),)],\n",
    "    [sg.Button('Nutrient Breakdown'), sg.Button('MyFitnessPal')],\n",
    "    [sg.Column([[sg.Canvas(key=f'-CANVAS-{i}-')] for i in range(5)])]\n",
    "]\n",
    "\n",
    "window = sg.Window('F0RK', layout, )"
   ]
  },
  {
   "cell_type": "code",
   "execution_count": 4,
   "metadata": {},
   "outputs": [],
   "source": [
    "def getNutrients():\n",
    "\n",
    "    #Making the plots and combining them\n",
    "    recipes_temp = recipes.T\n",
    "    recipes_final = recipes_temp.drop([\"title\", \"missedIngredients\", \"calories\"])\n",
    "\n",
    "    labels = ['carbs', 'fat', 'protein']\n",
    "\n",
    "    fig, ax = plt.subplots(5,1 ,figsize = (100,150),)\n",
    "\n",
    "    ax[0].pie(recipes_final[0], labels = labels)\n",
    "    ax[1].pie(recipes_final[1], labels = labels)\n",
    "    ax[2].pie(recipes_final[2], labels = labels)\n",
    "    ax[3].pie(recipes_final[3], labels = labels)\n",
    "    ax[4].pie(recipes_final[4], labels = labels)\n",
    "\n",
    "    ax[0].set_title(recipes.title[0])\n",
    "    ax[1].set_title(recipes.title[1])\n",
    "    ax[2].set_title(recipes.title[2])\n",
    "    ax[3].set_title(recipes.title[3])\n",
    "    ax[4].set_title(recipes.title[4])\n",
    "\n",
    "    return fig"
   ]
  },
  {
   "cell_type": "code",
   "execution_count": 5,
   "metadata": {},
   "outputs": [],
   "source": [
    "# Event loop\n",
    "import tkinter\n",
    "\n",
    "\n",
    "while True:\n",
    "    event, values = window.read()\n",
    "    if event in (None, 'Exit'):\n",
    "        break\n",
    "    \n",
    "    if event == 'Nutrient Breakdown':\n",
    "        root = tkinter.Tk()\n",
    "        root.wm_title(\"Nutrient Breakdown\")\n",
    "\n",
    "        canvas = FigureCanvasTkAgg(getNutrients(), master=root)\n",
    "        canvas.draw()\n",
    "        canvas.get_tk_widget().pack(side='top', fill='both', expand=1)\n",
    "\n",
    "    elif event == 'MyFitnessPal':\n",
    "        print('wooo')\n",
    "\n",
    "# Close the GUI window\n",
    "window.close()"
   ]
  },
  {
   "cell_type": "code",
   "execution_count": null,
   "metadata": {},
   "outputs": [],
   "source": []
  },
  {
   "cell_type": "code",
   "execution_count": null,
   "metadata": {},
   "outputs": [],
   "source": []
  }
 ],
 "metadata": {
  "kernelspec": {
   "display_name": "Python 3",
   "language": "python",
   "name": "python3"
  },
  "language_info": {
   "codemirror_mode": {
    "name": "ipython",
    "version": 3
   },
   "file_extension": ".py",
   "mimetype": "text/x-python",
   "name": "python",
   "nbconvert_exporter": "python",
   "pygments_lexer": "ipython3",
   "version": "3.10.1"
  },
  "orig_nbformat": 4,
  "vscode": {
   "interpreter": {
    "hash": "43fba65bb55485b9f3e3eda00fb8375e2ac04e5634841a0d07bd13bf6e232503"
   }
  }
 },
 "nbformat": 4,
 "nbformat_minor": 2
}
